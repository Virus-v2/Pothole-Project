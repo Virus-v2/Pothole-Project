{
 "cells": [
  {
   "cell_type": "markdown",
   "metadata": {},
   "source": [
    "# Cusum filter\n",
    "\n",
    "The CUSUM filter is a quality-control method, designed to `detect a shift` in\n",
    "the mean value of a measured quantity away from a target value."
   ]
  },
  {
   "cell_type": "code",
   "execution_count": 1,
   "metadata": {},
   "outputs": [],
   "source": [
    "import pandas as pd\n",
    "import numpy as np"
   ]
  },
  {
   "cell_type": "code",
   "execution_count": 2,
   "metadata": {},
   "outputs": [],
   "source": [
    "df = pd.read_csv('../data/plain_road_unsb/1.csv')"
   ]
  },
  {
   "cell_type": "code",
   "execution_count": 5,
   "metadata": {},
   "outputs": [
    {
     "data": {
      "text/html": [
       "<div>\n",
       "<style scoped>\n",
       "    .dataframe tbody tr th:only-of-type {\n",
       "        vertical-align: middle;\n",
       "    }\n",
       "\n",
       "    .dataframe tbody tr th {\n",
       "        vertical-align: top;\n",
       "    }\n",
       "\n",
       "    .dataframe thead th {\n",
       "        text-align: right;\n",
       "    }\n",
       "</style>\n",
       "<table border=\"1\" class=\"dataframe\">\n",
       "  <thead>\n",
       "    <tr style=\"text-align: right;\">\n",
       "      <th></th>\n",
       "      <th>Timestamp</th>\n",
       "      <th>Gx</th>\n",
       "      <th>Gy</th>\n",
       "      <th>Gz</th>\n",
       "      <th>Ax</th>\n",
       "      <th>Ay</th>\n",
       "      <th>Az</th>\n",
       "    </tr>\n",
       "  </thead>\n",
       "  <tbody>\n",
       "    <tr>\n",
       "      <th>0</th>\n",
       "      <td>2019-01-23 23:03:58</td>\n",
       "      <td>0.064957</td>\n",
       "      <td>0.283463</td>\n",
       "      <td>-0.16098</td>\n",
       "      <td>0.000000</td>\n",
       "      <td>0.000000</td>\n",
       "      <td>0.000000</td>\n",
       "    </tr>\n",
       "    <tr>\n",
       "      <th>1</th>\n",
       "      <td>2019-01-23 23:04:01</td>\n",
       "      <td>0.064957</td>\n",
       "      <td>0.283463</td>\n",
       "      <td>-0.16098</td>\n",
       "      <td>0.191620</td>\n",
       "      <td>3.867020</td>\n",
       "      <td>11.542938</td>\n",
       "    </tr>\n",
       "    <tr>\n",
       "      <th>2</th>\n",
       "      <td>2019-01-23 23:04:01</td>\n",
       "      <td>0.064957</td>\n",
       "      <td>0.283463</td>\n",
       "      <td>-0.16098</td>\n",
       "      <td>0.737183</td>\n",
       "      <td>3.733017</td>\n",
       "      <td>10.061783</td>\n",
       "    </tr>\n",
       "    <tr>\n",
       "      <th>3</th>\n",
       "      <td>2019-01-23 23:04:02</td>\n",
       "      <td>0.064957</td>\n",
       "      <td>0.283463</td>\n",
       "      <td>-0.16098</td>\n",
       "      <td>1.794815</td>\n",
       "      <td>3.675598</td>\n",
       "      <td>8.338943</td>\n",
       "    </tr>\n",
       "    <tr>\n",
       "      <th>4</th>\n",
       "      <td>2019-01-23 23:04:02</td>\n",
       "      <td>0.064957</td>\n",
       "      <td>0.283463</td>\n",
       "      <td>-0.16098</td>\n",
       "      <td>3.010376</td>\n",
       "      <td>3.265213</td>\n",
       "      <td>8.058990</td>\n",
       "    </tr>\n",
       "  </tbody>\n",
       "</table>\n",
       "</div>"
      ],
      "text/plain": [
       "            Timestamp        Gx        Gy       Gz        Ax        Ay  \\\n",
       "0 2019-01-23 23:03:58  0.064957  0.283463 -0.16098  0.000000  0.000000   \n",
       "1 2019-01-23 23:04:01  0.064957  0.283463 -0.16098  0.191620  3.867020   \n",
       "2 2019-01-23 23:04:01  0.064957  0.283463 -0.16098  0.737183  3.733017   \n",
       "3 2019-01-23 23:04:02  0.064957  0.283463 -0.16098  1.794815  3.675598   \n",
       "4 2019-01-23 23:04:02  0.064957  0.283463 -0.16098  3.010376  3.265213   \n",
       "\n",
       "          Az  \n",
       "0   0.000000  \n",
       "1  11.542938  \n",
       "2  10.061783  \n",
       "3   8.338943  \n",
       "4   8.058990  "
      ]
     },
     "execution_count": 5,
     "metadata": {},
     "output_type": "execute_result"
    }
   ],
   "source": [
    "df['Timestamp'] = pd.to_datetime(df['Timestamp'])\n",
    "df.head()"
   ]
  },
  {
   "cell_type": "code",
   "execution_count": 7,
   "metadata": {},
   "outputs": [
    {
     "data": {
      "text/html": [
       "<div>\n",
       "<style scoped>\n",
       "    .dataframe tbody tr th:only-of-type {\n",
       "        vertical-align: middle;\n",
       "    }\n",
       "\n",
       "    .dataframe tbody tr th {\n",
       "        vertical-align: top;\n",
       "    }\n",
       "\n",
       "    .dataframe thead th {\n",
       "        text-align: right;\n",
       "    }\n",
       "</style>\n",
       "<table border=\"1\" class=\"dataframe\">\n",
       "  <thead>\n",
       "    <tr style=\"text-align: right;\">\n",
       "      <th></th>\n",
       "      <th>Gx</th>\n",
       "      <th>Gy</th>\n",
       "      <th>Gz</th>\n",
       "      <th>Ax</th>\n",
       "      <th>Ay</th>\n",
       "      <th>Az</th>\n",
       "    </tr>\n",
       "  </thead>\n",
       "  <tbody>\n",
       "    <tr>\n",
       "      <th>count</th>\n",
       "      <td>31984.000000</td>\n",
       "      <td>31984.000000</td>\n",
       "      <td>31984.000000</td>\n",
       "      <td>31984.000000</td>\n",
       "      <td>31984.000000</td>\n",
       "      <td>31984.000000</td>\n",
       "    </tr>\n",
       "    <tr>\n",
       "      <th>mean</th>\n",
       "      <td>0.001253</td>\n",
       "      <td>-0.001131</td>\n",
       "      <td>-0.006258</td>\n",
       "      <td>-0.051219</td>\n",
       "      <td>2.362548</td>\n",
       "      <td>9.403971</td>\n",
       "    </tr>\n",
       "    <tr>\n",
       "      <th>std</th>\n",
       "      <td>0.233571</td>\n",
       "      <td>0.124604</td>\n",
       "      <td>0.138764</td>\n",
       "      <td>0.988702</td>\n",
       "      <td>1.508488</td>\n",
       "      <td>2.125044</td>\n",
       "    </tr>\n",
       "    <tr>\n",
       "      <th>min</th>\n",
       "      <td>-2.765289</td>\n",
       "      <td>-1.170135</td>\n",
       "      <td>-2.431732</td>\n",
       "      <td>-16.961334</td>\n",
       "      <td>-12.925812</td>\n",
       "      <td>-21.229172</td>\n",
       "    </tr>\n",
       "    <tr>\n",
       "      <th>25%</th>\n",
       "      <td>-0.090393</td>\n",
       "      <td>-0.053238</td>\n",
       "      <td>-0.062576</td>\n",
       "      <td>-0.532211</td>\n",
       "      <td>1.291138</td>\n",
       "      <td>8.443039</td>\n",
       "    </tr>\n",
       "    <tr>\n",
       "      <th>50%</th>\n",
       "      <td>0.005630</td>\n",
       "      <td>-0.001068</td>\n",
       "      <td>-0.006195</td>\n",
       "      <td>-0.073990</td>\n",
       "      <td>2.156143</td>\n",
       "      <td>9.451614</td>\n",
       "    </tr>\n",
       "    <tr>\n",
       "      <th>75%</th>\n",
       "      <td>0.099583</td>\n",
       "      <td>0.052200</td>\n",
       "      <td>0.044083</td>\n",
       "      <td>0.466797</td>\n",
       "      <td>3.406403</td>\n",
       "      <td>10.360886</td>\n",
       "    </tr>\n",
       "    <tr>\n",
       "      <th>max</th>\n",
       "      <td>2.453659</td>\n",
       "      <td>1.332687</td>\n",
       "      <td>2.124908</td>\n",
       "      <td>14.944565</td>\n",
       "      <td>18.993240</td>\n",
       "      <td>56.544754</td>\n",
       "    </tr>\n",
       "  </tbody>\n",
       "</table>\n",
       "</div>"
      ],
      "text/plain": [
       "                 Gx            Gy            Gz            Ax            Ay  \\\n",
       "count  31984.000000  31984.000000  31984.000000  31984.000000  31984.000000   \n",
       "mean       0.001253     -0.001131     -0.006258     -0.051219      2.362548   \n",
       "std        0.233571      0.124604      0.138764      0.988702      1.508488   \n",
       "min       -2.765289     -1.170135     -2.431732    -16.961334    -12.925812   \n",
       "25%       -0.090393     -0.053238     -0.062576     -0.532211      1.291138   \n",
       "50%        0.005630     -0.001068     -0.006195     -0.073990      2.156143   \n",
       "75%        0.099583      0.052200      0.044083      0.466797      3.406403   \n",
       "max        2.453659      1.332687      2.124908     14.944565     18.993240   \n",
       "\n",
       "                 Az  \n",
       "count  31984.000000  \n",
       "mean       9.403971  \n",
       "std        2.125044  \n",
       "min      -21.229172  \n",
       "25%        8.443039  \n",
       "50%        9.451614  \n",
       "75%       10.360886  \n",
       "max       56.544754  "
      ]
     },
     "execution_count": 7,
     "metadata": {},
     "output_type": "execute_result"
    }
   ],
   "source": [
    "df.describe()"
   ]
  },
  {
   "cell_type": "code",
   "execution_count": 71,
   "metadata": {},
   "outputs": [
    {
     "name": "stdout",
     "output_type": "stream",
     "text": [
      "11.542938000000001\n",
      "[]\n"
     ]
    }
   ],
   "source": [
    "def get_events(self,df,thold):\n",
    "    \"\"\"\n",
    "    Symmetric Cusum filter\n",
    "    args:\n",
    "        df: pandas dataframe\n",
    "        thold: thold to sample point \n",
    "    returns:\n",
    "        index of events marked\n",
    "    \"\"\"\n",
    "    \n",
    "    Events, sNeg, sPos = [], 0, 0\n",
    "    diff = df['Az'].diff()\n",
    "    # print(diff)\n",
    "    # print(diff.index)\n",
    "    print(diff[1])\n",
    "    for i in diff.index[1:]:\n",
    "        sNeg, sPos = max(0,sPos+diff[i]),min(0,sNeg+diff[i])\n",
    "        \n",
    "        if sNeg<-thold:\n",
    "            sNeg = 0;tEvents.append(i)\n",
    "        elif sPos>thold:\n",
    "            sPos = 0;tEvents.append(i)\n",
    "        \n",
    "    print(Events)\n",
    "    return pd.DatetimeIndex(Events)\n",
    "    \n",
    "# df_ = df.set_index('Timestamp')\n",
    "# print(df_.index)\n",
    "events = get_events(0,df,df['Az'].mean())"
   ]
  },
  {
   "cell_type": "code",
   "execution_count": null,
   "metadata": {},
   "outputs": [],
   "source": []
  },
  {
   "cell_type": "code",
   "execution_count": 59,
   "metadata": {},
   "outputs": [
    {
     "data": {
      "text/plain": [
       "[]"
      ]
     },
     "execution_count": 59,
     "metadata": {},
     "output_type": "execute_result"
    }
   ],
   "source": [
    "vals = []\n",
    "for i in events:\n",
    "    t = df[df.index==i]\n",
    "    vals.append(t['Az'])\n",
    "\n",
    "vals"
   ]
  },
  {
   "cell_type": "code",
   "execution_count": 11,
   "metadata": {},
   "outputs": [
    {
     "data": {
      "text/plain": [
       "(381,)"
      ]
     },
     "execution_count": 11,
     "metadata": {},
     "output_type": "execute_result"
    }
   ],
   "source": [
    "from plotly import tools\n",
    "from plotly.offline import download_plotlyjs,init_notebook_mode,iplot,plot\n",
    "import plotly.graph_objs as go\n",
    "init_notebook_mode(connected=True)\n",
    "\n",
    "def plot_g_a(self,df):\n",
    "    \"\"\"\n",
    "    Verify downsample\n",
    "    args:\n",
    "        df : pandas DataFrame with columns (Timestamp,Gx,Gy,Gz,Ax,Ay,Az)\n",
    "    returns:\n",
    "        iplot\n",
    "    \"\"\"\n",
    "    t = df['Timestamp']\n",
    "    \n",
    "    az = go.Scatter(\n",
    "        x= t,\n",
    "        y= az,\n",
    "        name='signal'\n",
    "    )\n",
    "    \n",
    "    data = [az]\n",
    "    go.Figure(data=data)\n",
    "    \n",
    "    \n",
    "    return "
   ]
  }
 ],
 "metadata": {
  "kernelspec": {
   "display_name": "Python 3",
   "language": "python",
   "name": "python3"
  },
  "language_info": {
   "codemirror_mode": {
    "name": "ipython",
    "version": 3
   },
   "file_extension": ".py",
   "mimetype": "text/x-python",
   "name": "python",
   "nbconvert_exporter": "python",
   "pygments_lexer": "ipython3",
   "version": "3.6.8"
  },
  "varInspector": {
   "cols": {
    "lenName": 16,
    "lenType": 16,
    "lenVar": 40
   },
   "kernels_config": {
    "python": {
     "delete_cmd_postfix": "",
     "delete_cmd_prefix": "del ",
     "library": "var_list.py",
     "varRefreshCmd": "print(var_dic_list())"
    },
    "r": {
     "delete_cmd_postfix": ") ",
     "delete_cmd_prefix": "rm(",
     "library": "var_list.r",
     "varRefreshCmd": "cat(var_dic_list()) "
    }
   },
   "types_to_exclude": [
    "module",
    "function",
    "builtin_function_or_method",
    "instance",
    "_Feature"
   ],
   "window_display": false
  }
 },
 "nbformat": 4,
 "nbformat_minor": 2
}
