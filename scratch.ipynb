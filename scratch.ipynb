{
 "cells": [
  {
   "cell_type": "markdown",
   "metadata": {},
   "source": [
    "# Load Libraries"
   ]
  },
  {
   "cell_type": "code",
   "execution_count": 1,
   "metadata": {},
   "outputs": [],
   "source": [
    "import pandas as pd\n",
    "import numpy as np\n",
    "from sklearn.externals import joblib\n",
    "from sklearn.model_selection import train_test_split\n",
    "from sklearn.metrics import accuracy_score"
   ]
  },
  {
   "cell_type": "markdown",
   "metadata": {},
   "source": [
    "# Load Custom Classes"
   ]
  },
  {
   "cell_type": "code",
   "execution_count": 2,
   "metadata": {},
   "outputs": [],
   "source": [
    "from mlmodel.mlmodel import Models"
   ]
  },
  {
   "cell_type": "code",
   "execution_count": 3,
   "metadata": {},
   "outputs": [],
   "source": [
    "# custom class objects\n",
    "\n",
    "# feature objects\n",
    "\n",
    "# mlmodel object\n",
    "ml_ob = Models()\n",
    "\n",
    "\n"
   ]
  },
  {
   "cell_type": "markdown",
   "metadata": {},
   "source": [
    "# Load Data"
   ]
  },
  {
   "cell_type": "code",
   "execution_count": 4,
   "metadata": {},
   "outputs": [
    {
     "name": "stdout",
     "output_type": "stream",
     "text": [
      "(31984, 7)\n"
     ]
    },
    {
     "data": {
      "text/html": [
       "<div>\n",
       "<style scoped>\n",
       "    .dataframe tbody tr th:only-of-type {\n",
       "        vertical-align: middle;\n",
       "    }\n",
       "\n",
       "    .dataframe tbody tr th {\n",
       "        vertical-align: top;\n",
       "    }\n",
       "\n",
       "    .dataframe thead th {\n",
       "        text-align: right;\n",
       "    }\n",
       "</style>\n",
       "<table border=\"1\" class=\"dataframe\">\n",
       "  <thead>\n",
       "    <tr style=\"text-align: right;\">\n",
       "      <th></th>\n",
       "      <th>Timestamp</th>\n",
       "      <th>Gx</th>\n",
       "      <th>Gy</th>\n",
       "      <th>Gz</th>\n",
       "      <th>Ax</th>\n",
       "      <th>Ay</th>\n",
       "      <th>Az</th>\n",
       "    </tr>\n",
       "  </thead>\n",
       "  <tbody>\n",
       "    <tr>\n",
       "      <th>0</th>\n",
       "      <td>2019-01-23 23:03:58</td>\n",
       "      <td>0.064957</td>\n",
       "      <td>0.283463</td>\n",
       "      <td>-0.16098</td>\n",
       "      <td>0.000000</td>\n",
       "      <td>0.000000</td>\n",
       "      <td>0.000000</td>\n",
       "    </tr>\n",
       "    <tr>\n",
       "      <th>1</th>\n",
       "      <td>2019-01-23 23:04:01</td>\n",
       "      <td>0.064957</td>\n",
       "      <td>0.283463</td>\n",
       "      <td>-0.16098</td>\n",
       "      <td>0.191620</td>\n",
       "      <td>3.867020</td>\n",
       "      <td>11.542938</td>\n",
       "    </tr>\n",
       "    <tr>\n",
       "      <th>2</th>\n",
       "      <td>2019-01-23 23:04:01</td>\n",
       "      <td>0.064957</td>\n",
       "      <td>0.283463</td>\n",
       "      <td>-0.16098</td>\n",
       "      <td>0.737183</td>\n",
       "      <td>3.733017</td>\n",
       "      <td>10.061783</td>\n",
       "    </tr>\n",
       "    <tr>\n",
       "      <th>3</th>\n",
       "      <td>2019-01-23 23:04:02</td>\n",
       "      <td>0.064957</td>\n",
       "      <td>0.283463</td>\n",
       "      <td>-0.16098</td>\n",
       "      <td>1.794815</td>\n",
       "      <td>3.675598</td>\n",
       "      <td>8.338943</td>\n",
       "    </tr>\n",
       "    <tr>\n",
       "      <th>4</th>\n",
       "      <td>2019-01-23 23:04:02</td>\n",
       "      <td>0.064957</td>\n",
       "      <td>0.283463</td>\n",
       "      <td>-0.16098</td>\n",
       "      <td>3.010376</td>\n",
       "      <td>3.265213</td>\n",
       "      <td>8.058990</td>\n",
       "    </tr>\n",
       "  </tbody>\n",
       "</table>\n",
       "</div>"
      ],
      "text/plain": [
       "             Timestamp        Gx        Gy       Gz        Ax        Ay  \\\n",
       "0  2019-01-23 23:03:58  0.064957  0.283463 -0.16098  0.000000  0.000000   \n",
       "1  2019-01-23 23:04:01  0.064957  0.283463 -0.16098  0.191620  3.867020   \n",
       "2  2019-01-23 23:04:01  0.064957  0.283463 -0.16098  0.737183  3.733017   \n",
       "3  2019-01-23 23:04:02  0.064957  0.283463 -0.16098  1.794815  3.675598   \n",
       "4  2019-01-23 23:04:02  0.064957  0.283463 -0.16098  3.010376  3.265213   \n",
       "\n",
       "          Az  \n",
       "0   0.000000  \n",
       "1  11.542938  \n",
       "2  10.061783  \n",
       "3   8.338943  \n",
       "4   8.058990  "
      ]
     },
     "execution_count": 4,
     "metadata": {},
     "output_type": "execute_result"
    }
   ],
   "source": [
    "df = pd.read_csv('./data/plain_road_unsb/1.csv')\n",
    "print(df.shape)\n",
    "df.head()"
   ]
  },
  {
   "cell_type": "markdown",
   "metadata": {},
   "source": [
    "# Features"
   ]
  },
  {
   "cell_type": "code",
   "execution_count": 5,
   "metadata": {},
   "outputs": [],
   "source": [
    "# code to extract features"
   ]
  },
  {
   "cell_type": "markdown",
   "metadata": {},
   "source": [
    "# Labels"
   ]
  },
  {
   "cell_type": "code",
   "execution_count": 6,
   "metadata": {},
   "outputs": [
    {
     "data": {
      "text/html": [
       "<div>\n",
       "<style scoped>\n",
       "    .dataframe tbody tr th:only-of-type {\n",
       "        vertical-align: middle;\n",
       "    }\n",
       "\n",
       "    .dataframe tbody tr th {\n",
       "        vertical-align: top;\n",
       "    }\n",
       "\n",
       "    .dataframe thead th {\n",
       "        text-align: right;\n",
       "    }\n",
       "</style>\n",
       "<table border=\"1\" class=\"dataframe\">\n",
       "  <thead>\n",
       "    <tr style=\"text-align: right;\">\n",
       "      <th></th>\n",
       "      <th>Timestamp</th>\n",
       "      <th>Gx</th>\n",
       "      <th>Gy</th>\n",
       "      <th>Gz</th>\n",
       "      <th>Ax</th>\n",
       "      <th>Ay</th>\n",
       "      <th>Az</th>\n",
       "      <th>labels</th>\n",
       "    </tr>\n",
       "  </thead>\n",
       "  <tbody>\n",
       "    <tr>\n",
       "      <th>0</th>\n",
       "      <td>2019-01-23 23:03:58</td>\n",
       "      <td>0.064957</td>\n",
       "      <td>0.283463</td>\n",
       "      <td>-0.16098</td>\n",
       "      <td>0.000000</td>\n",
       "      <td>0.000000</td>\n",
       "      <td>0.000000</td>\n",
       "      <td>1</td>\n",
       "    </tr>\n",
       "    <tr>\n",
       "      <th>1</th>\n",
       "      <td>2019-01-23 23:04:01</td>\n",
       "      <td>0.064957</td>\n",
       "      <td>0.283463</td>\n",
       "      <td>-0.16098</td>\n",
       "      <td>0.191620</td>\n",
       "      <td>3.867020</td>\n",
       "      <td>11.542938</td>\n",
       "      <td>1</td>\n",
       "    </tr>\n",
       "    <tr>\n",
       "      <th>2</th>\n",
       "      <td>2019-01-23 23:04:01</td>\n",
       "      <td>0.064957</td>\n",
       "      <td>0.283463</td>\n",
       "      <td>-0.16098</td>\n",
       "      <td>0.737183</td>\n",
       "      <td>3.733017</td>\n",
       "      <td>10.061783</td>\n",
       "      <td>0</td>\n",
       "    </tr>\n",
       "    <tr>\n",
       "      <th>3</th>\n",
       "      <td>2019-01-23 23:04:02</td>\n",
       "      <td>0.064957</td>\n",
       "      <td>0.283463</td>\n",
       "      <td>-0.16098</td>\n",
       "      <td>1.794815</td>\n",
       "      <td>3.675598</td>\n",
       "      <td>8.338943</td>\n",
       "      <td>0</td>\n",
       "    </tr>\n",
       "    <tr>\n",
       "      <th>4</th>\n",
       "      <td>2019-01-23 23:04:02</td>\n",
       "      <td>0.064957</td>\n",
       "      <td>0.283463</td>\n",
       "      <td>-0.16098</td>\n",
       "      <td>3.010376</td>\n",
       "      <td>3.265213</td>\n",
       "      <td>8.058990</td>\n",
       "      <td>-1</td>\n",
       "    </tr>\n",
       "  </tbody>\n",
       "</table>\n",
       "</div>"
      ],
      "text/plain": [
       "             Timestamp        Gx        Gy       Gz        Ax        Ay  \\\n",
       "0  2019-01-23 23:03:58  0.064957  0.283463 -0.16098  0.000000  0.000000   \n",
       "1  2019-01-23 23:04:01  0.064957  0.283463 -0.16098  0.191620  3.867020   \n",
       "2  2019-01-23 23:04:01  0.064957  0.283463 -0.16098  0.737183  3.733017   \n",
       "3  2019-01-23 23:04:02  0.064957  0.283463 -0.16098  1.794815  3.675598   \n",
       "4  2019-01-23 23:04:02  0.064957  0.283463 -0.16098  3.010376  3.265213   \n",
       "\n",
       "          Az  labels  \n",
       "0   0.000000       1  \n",
       "1  11.542938       1  \n",
       "2  10.061783       0  \n",
       "3   8.338943       0  \n",
       "4   8.058990      -1  "
      ]
     },
     "execution_count": 6,
     "metadata": {},
     "output_type": "execute_result"
    }
   ],
   "source": [
    "# code to label the features\n",
    "# this is temporary code random assignment of labels\n",
    "\n",
    "np.random.seed(4)\n",
    "labels = np.random.randint(-1,2,df.shape[0])\n",
    "df['labels'] = labels\n",
    "\n",
    "df.head()"
   ]
  },
  {
   "cell_type": "code",
   "execution_count": 7,
   "metadata": {},
   "outputs": [],
   "source": [
    "X = df.iloc[:,1:-1]\n",
    "y = df.iloc[:,-1]"
   ]
  },
  {
   "cell_type": "markdown",
   "metadata": {},
   "source": [
    "# Split"
   ]
  },
  {
   "cell_type": "code",
   "execution_count": 8,
   "metadata": {},
   "outputs": [],
   "source": [
    "trainX, testX, trainY, testY = train_test_split(X,y, test_size=0.2, shuffle=False)"
   ]
  },
  {
   "cell_type": "code",
   "execution_count": 9,
   "metadata": {},
   "outputs": [
    {
     "data": {
      "text/plain": [
       "((25587, 6), (25587,))"
      ]
     },
     "execution_count": 9,
     "metadata": {},
     "output_type": "execute_result"
    }
   ],
   "source": [
    "trainX.shape, trainY.shape"
   ]
  },
  {
   "cell_type": "markdown",
   "metadata": {},
   "source": [
    "# Classifier"
   ]
  },
  {
   "cell_type": "code",
   "execution_count": 10,
   "metadata": {},
   "outputs": [
    {
     "name": "stderr",
     "output_type": "stream",
     "text": [
      "[Parallel(n_jobs=1)]: Using backend SequentialBackend with 1 concurrent workers.\n",
      "[Parallel(n_jobs=1)]: Done 100 out of 100 | elapsed:    8.4s finished\n"
     ]
    }
   ],
   "source": [
    "clf = ml_ob.randomForest(trainX,trainY,n_estimators=100)"
   ]
  },
  {
   "cell_type": "markdown",
   "metadata": {},
   "source": [
    "# Predict"
   ]
  },
  {
   "cell_type": "code",
   "execution_count": 11,
   "metadata": {},
   "outputs": [
    {
     "name": "stderr",
     "output_type": "stream",
     "text": [
      "[Parallel(n_jobs=1)]: Using backend SequentialBackend with 1 concurrent workers.\n",
      "[Parallel(n_jobs=1)]: Done 100 out of 100 | elapsed:    0.2s finished\n"
     ]
    }
   ],
   "source": [
    "pred_y = clf.predict(testX)"
   ]
  },
  {
   "cell_type": "markdown",
   "metadata": {},
   "source": [
    "# Cross Validation Metrics"
   ]
  },
  {
   "cell_type": "code",
   "execution_count": 12,
   "metadata": {},
   "outputs": [
    {
     "data": {
      "text/plain": [
       "0.32609035485383775"
      ]
     },
     "execution_count": 12,
     "metadata": {},
     "output_type": "execute_result"
    }
   ],
   "source": [
    "accuracy_score(testY,pred_y)"
   ]
  }
 ],
 "metadata": {
  "kernelspec": {
   "display_name": "Python 3",
   "language": "python",
   "name": "python3"
  },
  "language_info": {
   "codemirror_mode": {
    "name": "ipython",
    "version": 3
   },
   "file_extension": ".py",
   "mimetype": "text/x-python",
   "name": "python",
   "nbconvert_exporter": "python",
   "pygments_lexer": "ipython3",
   "version": "3.6.8"
  },
  "varInspector": {
   "cols": {
    "lenName": 16,
    "lenType": 16,
    "lenVar": 40
   },
   "kernels_config": {
    "python": {
     "delete_cmd_postfix": "",
     "delete_cmd_prefix": "del ",
     "library": "var_list.py",
     "varRefreshCmd": "print(var_dic_list())"
    },
    "r": {
     "delete_cmd_postfix": ") ",
     "delete_cmd_prefix": "rm(",
     "library": "var_list.r",
     "varRefreshCmd": "cat(var_dic_list()) "
    }
   },
   "types_to_exclude": [
    "module",
    "function",
    "builtin_function_or_method",
    "instance",
    "_Feature"
   ],
   "window_display": false
  }
 },
 "nbformat": 4,
 "nbformat_minor": 2
}
